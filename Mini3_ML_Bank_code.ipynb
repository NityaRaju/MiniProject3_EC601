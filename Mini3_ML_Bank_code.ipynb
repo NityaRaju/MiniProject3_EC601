{
  "nbformat": 4,
  "nbformat_minor": 0,
  "metadata": {
    "accelerator": "GPU",
    "colab": {
      "name": "Mini3 ML_Bank_code.ipynb",
      "provenance": []
    },
    "kernelspec": {
      "display_name": "Python 3",
      "language": "python",
      "name": "python3"
    },
    "language_info": {
      "codemirror_mode": {
        "name": "ipython",
        "version": 3
      },
      "file_extension": ".py",
      "mimetype": "text/x-python",
      "name": "python",
      "nbconvert_exporter": "python",
      "pygments_lexer": "ipython3",
      "version": "3.7.3"
    }
  },
  "cells": [
    {
      "cell_type": "markdown",
      "metadata": {
        "id": "3YwmPqEx5yNX",
        "colab_type": "text"
      },
      "source": [
        "# Portuguese Bank Marketing - Machine Learning\n",
        "\n"
      ]
    },
    {
      "cell_type": "markdown",
      "metadata": {
        "id": "SgSgiR-h5yNY",
        "colab_type": "text"
      },
      "source": [
        "The data is associated with the direct marketing campaigns (phone calls) of a Portuguese banking institution. The classification goal is to predict if the client will subscribe to a term deposit. The outcome of this classification can enable marketing teams to more accurately predict customer bases and therefore cut down on costs."
      ]
    },
    {
      "cell_type": "code",
      "metadata": {
        "colab_type": "code",
        "id": "V_HlylYFf2e7",
        "colab": {}
      },
      "source": [
        "####################################################################################################################\n",
        "#Importing relevant packages\n",
        "\n",
        "import seaborn as sns\n",
        "import numpy as np\n",
        "import scipy.stats as stats\n",
        "import matplotlib.pyplot as plt\n",
        "import pandas as pd\n",
        "import sklearn.linear_model as linear\n",
        "import random\n",
        "sns.set(style=\"darkgrid\")\n",
        "plt.style.use('ggplot')\n",
        "%matplotlib inline\n",
        "from sklearn.model_selection import ShuffleSplit\n",
        "from sklearn.model_selection import train_test_split\n",
        "from sklearn import metrics as mt\n",
        "import datetime\n",
        "import time\n",
        "from sklearn.preprocessing import OneHotEncoder\n",
        "from sklearn.model_selection import train_test_split\n",
        "from sklearn.metrics import roc_curve, auc"
      ],
      "execution_count": 0,
      "outputs": []
    },
    {
      "cell_type": "markdown",
      "metadata": {
        "id": "2e2UPYgg5yNZ",
        "colab_type": "text"
      },
      "source": [
        "# Loading the Dataset"
      ]
    },
    {
      "cell_type": "markdown",
      "metadata": {
        "id": "BILT2mA15yNZ",
        "colab_type": "text"
      },
      "source": [
        "The dataset comprizes of 21 features and 41,188 rows, including both categorical and numerical types. "
      ]
    },
    {
      "cell_type": "code",
      "metadata": {
        "colab_type": "code",
        "id": "eC__pXhZf2e-",
        "outputId": "a6542e1d-7827-44a7-89d2-00ac71e89134",
        "scrolled": true,
        "colab": {
          "base_uri": "https://localhost:8080/",
          "height": 224
        }
      },
      "source": [
        "dataframe = pd.read_csv( \"bank-additional-full.csv\", sep=\";\")\n",
        "dataframe.head()"
      ],
      "execution_count": 0,
      "outputs": [
        {
          "output_type": "execute_result",
          "data": {
            "text/html": [
              "<div>\n",
              "<style scoped>\n",
              "    .dataframe tbody tr th:only-of-type {\n",
              "        vertical-align: middle;\n",
              "    }\n",
              "\n",
              "    .dataframe tbody tr th {\n",
              "        vertical-align: top;\n",
              "    }\n",
              "\n",
              "    .dataframe thead th {\n",
              "        text-align: right;\n",
              "    }\n",
              "</style>\n",
              "<table border=\"1\" class=\"dataframe\">\n",
              "  <thead>\n",
              "    <tr style=\"text-align: right;\">\n",
              "      <th></th>\n",
              "      <th>age</th>\n",
              "      <th>job</th>\n",
              "      <th>marital</th>\n",
              "      <th>education</th>\n",
              "      <th>default</th>\n",
              "      <th>housing</th>\n",
              "      <th>loan</th>\n",
              "      <th>contact</th>\n",
              "      <th>month</th>\n",
              "      <th>day_of_week</th>\n",
              "      <th>...</th>\n",
              "      <th>campaign</th>\n",
              "      <th>pdays</th>\n",
              "      <th>previous</th>\n",
              "      <th>poutcome</th>\n",
              "      <th>emp.var.rate</th>\n",
              "      <th>cons.price.idx</th>\n",
              "      <th>cons.conf.idx</th>\n",
              "      <th>euribor3m</th>\n",
              "      <th>nr.employed</th>\n",
              "      <th>y</th>\n",
              "    </tr>\n",
              "  </thead>\n",
              "  <tbody>\n",
              "    <tr>\n",
              "      <th>0</th>\n",
              "      <td>56</td>\n",
              "      <td>housemaid</td>\n",
              "      <td>married</td>\n",
              "      <td>basic.4y</td>\n",
              "      <td>no</td>\n",
              "      <td>no</td>\n",
              "      <td>no</td>\n",
              "      <td>telephone</td>\n",
              "      <td>may</td>\n",
              "      <td>mon</td>\n",
              "      <td>...</td>\n",
              "      <td>1</td>\n",
              "      <td>999</td>\n",
              "      <td>0</td>\n",
              "      <td>nonexistent</td>\n",
              "      <td>1.1</td>\n",
              "      <td>93.994</td>\n",
              "      <td>-36.4</td>\n",
              "      <td>4.857</td>\n",
              "      <td>5191.0</td>\n",
              "      <td>no</td>\n",
              "    </tr>\n",
              "    <tr>\n",
              "      <th>1</th>\n",
              "      <td>57</td>\n",
              "      <td>services</td>\n",
              "      <td>married</td>\n",
              "      <td>high.school</td>\n",
              "      <td>unknown</td>\n",
              "      <td>no</td>\n",
              "      <td>no</td>\n",
              "      <td>telephone</td>\n",
              "      <td>may</td>\n",
              "      <td>mon</td>\n",
              "      <td>...</td>\n",
              "      <td>1</td>\n",
              "      <td>999</td>\n",
              "      <td>0</td>\n",
              "      <td>nonexistent</td>\n",
              "      <td>1.1</td>\n",
              "      <td>93.994</td>\n",
              "      <td>-36.4</td>\n",
              "      <td>4.857</td>\n",
              "      <td>5191.0</td>\n",
              "      <td>no</td>\n",
              "    </tr>\n",
              "    <tr>\n",
              "      <th>2</th>\n",
              "      <td>37</td>\n",
              "      <td>services</td>\n",
              "      <td>married</td>\n",
              "      <td>high.school</td>\n",
              "      <td>no</td>\n",
              "      <td>yes</td>\n",
              "      <td>no</td>\n",
              "      <td>telephone</td>\n",
              "      <td>may</td>\n",
              "      <td>mon</td>\n",
              "      <td>...</td>\n",
              "      <td>1</td>\n",
              "      <td>999</td>\n",
              "      <td>0</td>\n",
              "      <td>nonexistent</td>\n",
              "      <td>1.1</td>\n",
              "      <td>93.994</td>\n",
              "      <td>-36.4</td>\n",
              "      <td>4.857</td>\n",
              "      <td>5191.0</td>\n",
              "      <td>no</td>\n",
              "    </tr>\n",
              "    <tr>\n",
              "      <th>3</th>\n",
              "      <td>40</td>\n",
              "      <td>admin.</td>\n",
              "      <td>married</td>\n",
              "      <td>basic.6y</td>\n",
              "      <td>no</td>\n",
              "      <td>no</td>\n",
              "      <td>no</td>\n",
              "      <td>telephone</td>\n",
              "      <td>may</td>\n",
              "      <td>mon</td>\n",
              "      <td>...</td>\n",
              "      <td>1</td>\n",
              "      <td>999</td>\n",
              "      <td>0</td>\n",
              "      <td>nonexistent</td>\n",
              "      <td>1.1</td>\n",
              "      <td>93.994</td>\n",
              "      <td>-36.4</td>\n",
              "      <td>4.857</td>\n",
              "      <td>5191.0</td>\n",
              "      <td>no</td>\n",
              "    </tr>\n",
              "    <tr>\n",
              "      <th>4</th>\n",
              "      <td>56</td>\n",
              "      <td>services</td>\n",
              "      <td>married</td>\n",
              "      <td>high.school</td>\n",
              "      <td>no</td>\n",
              "      <td>no</td>\n",
              "      <td>yes</td>\n",
              "      <td>telephone</td>\n",
              "      <td>may</td>\n",
              "      <td>mon</td>\n",
              "      <td>...</td>\n",
              "      <td>1</td>\n",
              "      <td>999</td>\n",
              "      <td>0</td>\n",
              "      <td>nonexistent</td>\n",
              "      <td>1.1</td>\n",
              "      <td>93.994</td>\n",
              "      <td>-36.4</td>\n",
              "      <td>4.857</td>\n",
              "      <td>5191.0</td>\n",
              "      <td>no</td>\n",
              "    </tr>\n",
              "  </tbody>\n",
              "</table>\n",
              "<p>5 rows × 21 columns</p>\n",
              "</div>"
            ],
            "text/plain": [
              "   age        job  marital    education  default housing loan    contact  \\\n",
              "0   56  housemaid  married     basic.4y       no      no   no  telephone   \n",
              "1   57   services  married  high.school  unknown      no   no  telephone   \n",
              "2   37   services  married  high.school       no     yes   no  telephone   \n",
              "3   40     admin.  married     basic.6y       no      no   no  telephone   \n",
              "4   56   services  married  high.school       no      no  yes  telephone   \n",
              "\n",
              "  month day_of_week  ...  campaign  pdays  previous     poutcome emp.var.rate  \\\n",
              "0   may         mon  ...         1    999         0  nonexistent          1.1   \n",
              "1   may         mon  ...         1    999         0  nonexistent          1.1   \n",
              "2   may         mon  ...         1    999         0  nonexistent          1.1   \n",
              "3   may         mon  ...         1    999         0  nonexistent          1.1   \n",
              "4   may         mon  ...         1    999         0  nonexistent          1.1   \n",
              "\n",
              "   cons.price.idx  cons.conf.idx  euribor3m  nr.employed   y  \n",
              "0          93.994          -36.4      4.857       5191.0  no  \n",
              "1          93.994          -36.4      4.857       5191.0  no  \n",
              "2          93.994          -36.4      4.857       5191.0  no  \n",
              "3          93.994          -36.4      4.857       5191.0  no  \n",
              "4          93.994          -36.4      4.857       5191.0  no  \n",
              "\n",
              "[5 rows x 21 columns]"
            ]
          },
          "metadata": {
            "tags": []
          },
          "execution_count": 34
        }
      ]
    },
    {
      "cell_type": "code",
      "metadata": {
        "colab_type": "code",
        "id": "Ov3BbUKFf2fB",
        "outputId": "0b7621f3-0def-47e0-ab0d-194c83d19cb1",
        "colab": {}
      },
      "source": [
        "dataframe.describe()"
      ],
      "execution_count": 0,
      "outputs": [
        {
          "output_type": "execute_result",
          "data": {
            "text/html": [
              "<div>\n",
              "<style scoped>\n",
              "    .dataframe tbody tr th:only-of-type {\n",
              "        vertical-align: middle;\n",
              "    }\n",
              "\n",
              "    .dataframe tbody tr th {\n",
              "        vertical-align: top;\n",
              "    }\n",
              "\n",
              "    .dataframe thead th {\n",
              "        text-align: right;\n",
              "    }\n",
              "</style>\n",
              "<table border=\"1\" class=\"dataframe\">\n",
              "  <thead>\n",
              "    <tr style=\"text-align: right;\">\n",
              "      <th></th>\n",
              "      <th>age</th>\n",
              "      <th>duration</th>\n",
              "      <th>campaign</th>\n",
              "      <th>pdays</th>\n",
              "      <th>previous</th>\n",
              "      <th>emp.var.rate</th>\n",
              "      <th>cons.price.idx</th>\n",
              "      <th>cons.conf.idx</th>\n",
              "      <th>euribor3m</th>\n",
              "      <th>nr.employed</th>\n",
              "    </tr>\n",
              "  </thead>\n",
              "  <tbody>\n",
              "    <tr>\n",
              "      <th>count</th>\n",
              "      <td>41188.00000</td>\n",
              "      <td>41188.000000</td>\n",
              "      <td>41188.000000</td>\n",
              "      <td>41188.000000</td>\n",
              "      <td>41188.000000</td>\n",
              "      <td>41188.000000</td>\n",
              "      <td>41188.000000</td>\n",
              "      <td>41188.000000</td>\n",
              "      <td>41188.000000</td>\n",
              "      <td>41188.000000</td>\n",
              "    </tr>\n",
              "    <tr>\n",
              "      <th>mean</th>\n",
              "      <td>40.02406</td>\n",
              "      <td>258.285010</td>\n",
              "      <td>2.567593</td>\n",
              "      <td>962.475454</td>\n",
              "      <td>0.172963</td>\n",
              "      <td>0.081886</td>\n",
              "      <td>93.575664</td>\n",
              "      <td>-40.502600</td>\n",
              "      <td>3.621291</td>\n",
              "      <td>5167.035911</td>\n",
              "    </tr>\n",
              "    <tr>\n",
              "      <th>std</th>\n",
              "      <td>10.42125</td>\n",
              "      <td>259.279249</td>\n",
              "      <td>2.770014</td>\n",
              "      <td>186.910907</td>\n",
              "      <td>0.494901</td>\n",
              "      <td>1.570960</td>\n",
              "      <td>0.578840</td>\n",
              "      <td>4.628198</td>\n",
              "      <td>1.734447</td>\n",
              "      <td>72.251528</td>\n",
              "    </tr>\n",
              "    <tr>\n",
              "      <th>min</th>\n",
              "      <td>17.00000</td>\n",
              "      <td>0.000000</td>\n",
              "      <td>1.000000</td>\n",
              "      <td>0.000000</td>\n",
              "      <td>0.000000</td>\n",
              "      <td>-3.400000</td>\n",
              "      <td>92.201000</td>\n",
              "      <td>-50.800000</td>\n",
              "      <td>0.634000</td>\n",
              "      <td>4963.600000</td>\n",
              "    </tr>\n",
              "    <tr>\n",
              "      <th>25%</th>\n",
              "      <td>32.00000</td>\n",
              "      <td>102.000000</td>\n",
              "      <td>1.000000</td>\n",
              "      <td>999.000000</td>\n",
              "      <td>0.000000</td>\n",
              "      <td>-1.800000</td>\n",
              "      <td>93.075000</td>\n",
              "      <td>-42.700000</td>\n",
              "      <td>1.344000</td>\n",
              "      <td>5099.100000</td>\n",
              "    </tr>\n",
              "    <tr>\n",
              "      <th>50%</th>\n",
              "      <td>38.00000</td>\n",
              "      <td>180.000000</td>\n",
              "      <td>2.000000</td>\n",
              "      <td>999.000000</td>\n",
              "      <td>0.000000</td>\n",
              "      <td>1.100000</td>\n",
              "      <td>93.749000</td>\n",
              "      <td>-41.800000</td>\n",
              "      <td>4.857000</td>\n",
              "      <td>5191.000000</td>\n",
              "    </tr>\n",
              "    <tr>\n",
              "      <th>75%</th>\n",
              "      <td>47.00000</td>\n",
              "      <td>319.000000</td>\n",
              "      <td>3.000000</td>\n",
              "      <td>999.000000</td>\n",
              "      <td>0.000000</td>\n",
              "      <td>1.400000</td>\n",
              "      <td>93.994000</td>\n",
              "      <td>-36.400000</td>\n",
              "      <td>4.961000</td>\n",
              "      <td>5228.100000</td>\n",
              "    </tr>\n",
              "    <tr>\n",
              "      <th>max</th>\n",
              "      <td>98.00000</td>\n",
              "      <td>4918.000000</td>\n",
              "      <td>56.000000</td>\n",
              "      <td>999.000000</td>\n",
              "      <td>7.000000</td>\n",
              "      <td>1.400000</td>\n",
              "      <td>94.767000</td>\n",
              "      <td>-26.900000</td>\n",
              "      <td>5.045000</td>\n",
              "      <td>5228.100000</td>\n",
              "    </tr>\n",
              "  </tbody>\n",
              "</table>\n",
              "</div>"
            ],
            "text/plain": [
              "               age      duration      campaign         pdays      previous  \\\n",
              "count  41188.00000  41188.000000  41188.000000  41188.000000  41188.000000   \n",
              "mean      40.02406    258.285010      2.567593    962.475454      0.172963   \n",
              "std       10.42125    259.279249      2.770014    186.910907      0.494901   \n",
              "min       17.00000      0.000000      1.000000      0.000000      0.000000   \n",
              "25%       32.00000    102.000000      1.000000    999.000000      0.000000   \n",
              "50%       38.00000    180.000000      2.000000    999.000000      0.000000   \n",
              "75%       47.00000    319.000000      3.000000    999.000000      0.000000   \n",
              "max       98.00000   4918.000000     56.000000    999.000000      7.000000   \n",
              "\n",
              "       emp.var.rate  cons.price.idx  cons.conf.idx     euribor3m   nr.employed  \n",
              "count  41188.000000    41188.000000   41188.000000  41188.000000  41188.000000  \n",
              "mean       0.081886       93.575664     -40.502600      3.621291   5167.035911  \n",
              "std        1.570960        0.578840       4.628198      1.734447     72.251528  \n",
              "min       -3.400000       92.201000     -50.800000      0.634000   4963.600000  \n",
              "25%       -1.800000       93.075000     -42.700000      1.344000   5099.100000  \n",
              "50%        1.100000       93.749000     -41.800000      4.857000   5191.000000  \n",
              "75%        1.400000       93.994000     -36.400000      4.961000   5228.100000  \n",
              "max        1.400000       94.767000     -26.900000      5.045000   5228.100000  "
            ]
          },
          "metadata": {
            "tags": []
          },
          "execution_count": 35
        }
      ]
    },
    {
      "cell_type": "markdown",
      "metadata": {
        "id": "L6_8LhBB5yNb",
        "colab_type": "text"
      },
      "source": [
        "# Data Cleaning and Exploration"
      ]
    },
    {
      "cell_type": "markdown",
      "metadata": {
        "id": "Y3-SgvQb5yNb",
        "colab_type": "text"
      },
      "source": [
        "The data itself needs very little cleaning. It has no null or NaN values. However, other features need to be adjusted. The feature 'pdays' indicates time elasped from the last contact attempt. If no contact was priorly made, we assigned 'pdays' value of 0 instead of 999"
      ]
    },
    {
      "cell_type": "code",
      "metadata": {
        "id": "ock7aVeJ5yNb",
        "colab_type": "code",
        "outputId": "c92a0f2e-c3ad-4a45-954c-f865c6b04427",
        "colab": {}
      },
      "source": [
        "dataframe.isnull().sum()"
      ],
      "execution_count": 0,
      "outputs": [
        {
          "output_type": "execute_result",
          "data": {
            "text/plain": [
              "age               0\n",
              "job               0\n",
              "marital           0\n",
              "education         0\n",
              "default           0\n",
              "housing           0\n",
              "loan              0\n",
              "contact           0\n",
              "month             0\n",
              "day_of_week       0\n",
              "duration          0\n",
              "campaign          0\n",
              "pdays             0\n",
              "previous          0\n",
              "poutcome          0\n",
              "emp.var.rate      0\n",
              "cons.price.idx    0\n",
              "cons.conf.idx     0\n",
              "euribor3m         0\n",
              "nr.employed       0\n",
              "y                 0\n",
              "dtype: int64"
            ]
          },
          "metadata": {
            "tags": []
          },
          "execution_count": 36
        }
      ]
    },
    {
      "cell_type": "code",
      "metadata": {
        "colab_type": "code",
        "id": "m5A3vYIgf2fE",
        "colab": {}
      },
      "source": [
        "dataframe['pdays'].replace(999,0, inplace = True)"
      ],
      "execution_count": 0,
      "outputs": []
    },
    {
      "cell_type": "code",
      "metadata": {
        "colab_type": "code",
        "id": "KmVGhDmPf2fF",
        "scrolled": true,
        "outputId": "4fdf5b30-b36f-4b04-af06-e1bf59bf90c6",
        "colab": {}
      },
      "source": [
        "## data exploration-value counting each feature to perform feature selection\n",
        "object_list = []\n",
        "number_list = []\n",
        "\n",
        "def examine_data_frame( df):\n",
        "    for name in df.columns:\n",
        "        print (\"----------\")\n",
        "        print (df[ name].dtype)\n",
        "        if df[ name].dtype is np.dtype( 'O'):\n",
        "            print (df[ name].value_counts())\n",
        "            print (\"Name: \", name)\n",
        "        else:\n",
        "            print (df[ name].describe())\n",
        "\n",
        "examine_data_frame(dataframe)"
      ],
      "execution_count": 0,
      "outputs": [
        {
          "output_type": "stream",
          "text": [
            "----------\n",
            "int64\n",
            "count    41188.00000\n",
            "mean        40.02406\n",
            "std         10.42125\n",
            "min         17.00000\n",
            "25%         32.00000\n",
            "50%         38.00000\n",
            "75%         47.00000\n",
            "max         98.00000\n",
            "Name: age, dtype: float64\n",
            "----------\n",
            "object\n",
            "admin.           10422\n",
            "blue-collar       9254\n",
            "technician        6743\n",
            "services          3969\n",
            "management        2924\n",
            "retired           1720\n",
            "entrepreneur      1456\n",
            "self-employed     1421\n",
            "housemaid         1060\n",
            "unemployed        1014\n",
            "student            875\n",
            "unknown            330\n",
            "Name: job, dtype: int64\n",
            "Name:  job\n",
            "----------\n",
            "object\n",
            "married     24928\n",
            "single      11568\n",
            "divorced     4612\n",
            "unknown        80\n",
            "Name: marital, dtype: int64\n",
            "Name:  marital\n",
            "----------\n",
            "object\n",
            "university.degree      12168\n",
            "high.school             9515\n",
            "basic.9y                6045\n",
            "professional.course     5243\n",
            "basic.4y                4176\n",
            "basic.6y                2292\n",
            "unknown                 1731\n",
            "illiterate                18\n",
            "Name: education, dtype: int64\n",
            "Name:  education\n",
            "----------\n",
            "object\n",
            "no         32588\n",
            "unknown     8597\n",
            "yes            3\n",
            "Name: default, dtype: int64\n",
            "Name:  default\n",
            "----------\n",
            "object\n",
            "yes        21576\n",
            "no         18622\n",
            "unknown      990\n",
            "Name: housing, dtype: int64\n",
            "Name:  housing\n",
            "----------\n",
            "object\n",
            "no         33950\n",
            "yes         6248\n",
            "unknown      990\n",
            "Name: loan, dtype: int64\n",
            "Name:  loan\n",
            "----------\n",
            "object\n",
            "cellular     26144\n",
            "telephone    15044\n",
            "Name: contact, dtype: int64\n",
            "Name:  contact\n",
            "----------\n",
            "object\n",
            "may    13769\n",
            "jul     7174\n",
            "aug     6178\n",
            "jun     5318\n",
            "nov     4101\n",
            "apr     2632\n",
            "oct      718\n",
            "sep      570\n",
            "mar      546\n",
            "dec      182\n",
            "Name: month, dtype: int64\n",
            "Name:  month\n",
            "----------\n",
            "object\n",
            "thu    8623\n",
            "mon    8514\n",
            "wed    8134\n",
            "tue    8090\n",
            "fri    7827\n",
            "Name: day_of_week, dtype: int64\n",
            "Name:  day_of_week\n",
            "----------\n",
            "int64\n",
            "count    41188.000000\n",
            "mean       258.285010\n",
            "std        259.279249\n",
            "min          0.000000\n",
            "25%        102.000000\n",
            "50%        180.000000\n",
            "75%        319.000000\n",
            "max       4918.000000\n",
            "Name: duration, dtype: float64\n",
            "----------\n",
            "int64\n",
            "count    41188.000000\n",
            "mean         2.567593\n",
            "std          2.770014\n",
            "min          1.000000\n",
            "25%          1.000000\n",
            "50%          2.000000\n",
            "75%          3.000000\n",
            "max         56.000000\n",
            "Name: campaign, dtype: float64\n",
            "----------\n",
            "int64\n",
            "count    41188.000000\n",
            "mean         0.221229\n",
            "std          1.348874\n",
            "min          0.000000\n",
            "25%          0.000000\n",
            "50%          0.000000\n",
            "75%          0.000000\n",
            "max         27.000000\n",
            "Name: pdays, dtype: float64\n",
            "----------\n",
            "int64\n",
            "count    41188.000000\n",
            "mean         0.172963\n",
            "std          0.494901\n",
            "min          0.000000\n",
            "25%          0.000000\n",
            "50%          0.000000\n",
            "75%          0.000000\n",
            "max          7.000000\n",
            "Name: previous, dtype: float64\n",
            "----------\n",
            "object\n",
            "nonexistent    35563\n",
            "failure         4252\n",
            "success         1373\n",
            "Name: poutcome, dtype: int64\n",
            "Name:  poutcome\n",
            "----------\n",
            "float64\n",
            "count    41188.000000\n",
            "mean         0.081886\n",
            "std          1.570960\n",
            "min         -3.400000\n",
            "25%         -1.800000\n",
            "50%          1.100000\n",
            "75%          1.400000\n",
            "max          1.400000\n",
            "Name: emp.var.rate, dtype: float64\n",
            "----------\n",
            "float64\n",
            "count    41188.000000\n",
            "mean        93.575664\n",
            "std          0.578840\n",
            "min         92.201000\n",
            "25%         93.075000\n",
            "50%         93.749000\n",
            "75%         93.994000\n",
            "max         94.767000\n",
            "Name: cons.price.idx, dtype: float64\n",
            "----------\n",
            "float64\n",
            "count    41188.000000\n",
            "mean       -40.502600\n",
            "std          4.628198\n",
            "min        -50.800000\n",
            "25%        -42.700000\n",
            "50%        -41.800000\n",
            "75%        -36.400000\n",
            "max        -26.900000\n",
            "Name: cons.conf.idx, dtype: float64\n",
            "----------\n",
            "float64\n",
            "count    41188.000000\n",
            "mean         3.621291\n",
            "std          1.734447\n",
            "min          0.634000\n",
            "25%          1.344000\n",
            "50%          4.857000\n",
            "75%          4.961000\n",
            "max          5.045000\n",
            "Name: euribor3m, dtype: float64\n",
            "----------\n",
            "float64\n",
            "count    41188.000000\n",
            "mean      5167.035911\n",
            "std         72.251528\n",
            "min       4963.600000\n",
            "25%       5099.100000\n",
            "50%       5191.000000\n",
            "75%       5228.100000\n",
            "max       5228.100000\n",
            "Name: nr.employed, dtype: float64\n",
            "----------\n",
            "object\n",
            "no     36548\n",
            "yes     4640\n",
            "Name: y, dtype: int64\n",
            "Name:  y\n"
          ],
          "name": "stdout"
        }
      ]
    },
    {
      "cell_type": "markdown",
      "metadata": {
        "id": "N_bV-Q9K5yNd",
        "colab_type": "text"
      },
      "source": [
        "The feature 'education' comprises of 8 categories, including; 'basic.9y', 'basic.6y' and 'basic.9y'. In order to reduce the number of eventual features and the dimensionality of our model, we combine these into a single category; 'basic'."
      ]
    },
    {
      "cell_type": "code",
      "metadata": {
        "id": "SVAgWhQq5yNd",
        "colab_type": "code",
        "colab": {}
      },
      "source": [
        "dataframe.replace(['basic.6y','basic.4y', 'basic.9y'], 'basic', inplace = True)"
      ],
      "execution_count": 0,
      "outputs": []
    },
    {
      "cell_type": "markdown",
      "metadata": {
        "id": "WiOzBD8N5yNe",
        "colab_type": "text"
      },
      "source": [
        "## Feature Selection"
      ]
    },
    {
      "cell_type": "markdown",
      "metadata": {
        "id": "HrQPKWTZ5yNe",
        "colab_type": "text"
      },
      "source": [
        "Exploring the data suggests that we drop some features.The feature 'default' which indicates whether or not the individual has credit in default. Since there were only three individuals that had defaulted, we remove those observations from the dataset. 'Duration' is also dropped as it is only included in the dataset as a benchmark variable. Furthermore, one only knows the 'duration' of the telemarketing call after the fact so it is not a relevant variable."
      ]
    },
    {
      "cell_type": "code",
      "metadata": {
        "colab_type": "code",
        "id": "g-w48Zdmf2fI",
        "colab": {}
      },
      "source": [
        "##feature selection\n",
        "dataframe['duration'].value_counts() \n",
        "dataframe.drop(['duration'], inplace = True, axis=1)"
      ],
      "execution_count": 0,
      "outputs": []
    },
    {
      "cell_type": "code",
      "metadata": {
        "colab_type": "code",
        "id": "PmhzNxmCf2fM",
        "colab": {}
      },
      "source": [
        "dataframe['default'].value_counts()\n",
        "dataframe.drop(['default'], inplace = True, axis=1)"
      ],
      "execution_count": 0,
      "outputs": []
    },
    {
      "cell_type": "markdown",
      "metadata": {
        "id": "EKRqnTmv5yNf",
        "colab_type": "text"
      },
      "source": [
        "# Data Visualization"
      ]
    },
    {
      "cell_type": "markdown",
      "metadata": {
        "id": "L_vDFkkG5yNf",
        "colab_type": "text"
      },
      "source": [
        "This section picks features that we hypothesize to be important for the model. We pick these features intuitively and observe their distribution across the data through visualizations."
      ]
    },
    {
      "cell_type": "code",
      "metadata": {
        "colab_type": "code",
        "id": "NecTSjS0f2fW",
        "outputId": "0810ffc3-c714-4af2-c707-5c8e91070907",
        "colab": {}
      },
      "source": [
        "frequencies = pd.crosstab(dataframe[\"marital\"], dataframe[ \"y\"]).apply(lambda r: r/len(dataframe))\n",
        "print (frequencies)\n",
        "\n",
        "sns.heatmap( frequencies,cmap = 'viridis')"
      ],
      "execution_count": 0,
      "outputs": [
        {
          "output_type": "stream",
          "text": [
            "y               no       yes\n",
            "marital                     \n",
            "divorced  0.100418  0.011557\n",
            "married   0.543751  0.061474\n",
            "single    0.241527  0.039332\n",
            "unknown   0.001651  0.000291\n"
          ],
          "name": "stdout"
        },
        {
          "output_type": "execute_result",
          "data": {
            "text/plain": [
              "<matplotlib.axes._subplots.AxesSubplot at 0x1a1b35f198>"
            ]
          },
          "metadata": {
            "tags": []
          },
          "execution_count": 42
        },
        {
          "output_type": "display_data",
          "data": {
            "image/png": "[encoded data removed]",
            "text/plain": [
              "<Figure size 432x288 with 2 Axes>"
            ]
          },
          "metadata": {
            "tags": [],
            "needs_background": "light"
          }
        }
      ]
    },
    {
      "cell_type": "code",
      "metadata": {
        "id": "PvgF_vxF5yNg",
        "colab_type": "code",
        "outputId": "38d16633-6aaa-4ef8-dad9-75ebd6a5d88d",
        "colab": {}
      },
      "source": [
        "dataframe['age'].hist()\n",
        "plt.title(\"Distribution of Age\")\n",
        "plt.xlabel(\"Age\")\n",
        "plt.ylabel(\"Frequency\")"
      ],
      "execution_count": 0,
      "outputs": [
        {
          "output_type": "execute_result",
          "data": {
            "text/plain": [
              "Text(0, 0.5, 'Frequency')"
            ]
          },
          "metadata": {
            "tags": []
          },
          "execution_count": 43
        },
        {
          "output_type": "display_data",
          "data": {
            "image/png": "[encoded data removed]",
            "text/plain": [
              "<Figure size 432x288 with 1 Axes>"
            ]
          },
          "metadata": {
            "tags": [],
            "needs_background": "light"
          }
        }
      ]
    },
    {
      "cell_type": "code",
      "metadata": {
        "id": "i63hnmOB5yNi",
        "colab_type": "code",
        "outputId": "83c193b1-fc27-4aa4-aa5c-c17473b4f827",
        "colab": {}
      },
      "source": [
        "dataframe['cons.conf.idx'].hist()\n",
        "plt.title(\"Distribution of Consumer Confidence\")\n",
        "plt.xlabel(\"Consumer Confidence Index\")\n",
        "plt.ylabel(\"Frequency\")"
      ],
      "execution_count": 0,
      "outputs": [
        {
          "output_type": "execute_result",
          "data": {
            "text/plain": [
              "Text(0, 0.5, 'Frequency')"
            ]
          },
          "metadata": {
            "tags": []
          },
          "execution_count": 44
        },
        {
          "output_type": "display_data",
          "data": {
            "image/png": "[encoded data removed]",
            "text/plain": [
              "<Figure size 432x288 with 1 Axes>"
            ]
          },
          "metadata": {
            "tags": [],
            "needs_background": "light"
          }
        }
      ]
    },
    {
      "cell_type": "code",
      "metadata": {
        "id": "JcH2_WCA5yNi",
        "colab_type": "code",
        "outputId": "a1981e40-4428-4208-f051-5dfcae640747",
        "colab": {}
      },
      "source": [
        "dataframe['euribor3m'].hist()\n",
        "plt.title(\"Distribution of 3-month Euribor Rate\")\n",
        "plt.xlabel(\"Euribor rate\")\n",
        "plt.ylabel(\"Frequency\")"
      ],
      "execution_count": 0,
      "outputs": [
        {
          "output_type": "execute_result",
          "data": {
            "text/plain": [
              "Text(0, 0.5, 'Frequency')"
            ]
          },
          "metadata": {
            "tags": []
          },
          "execution_count": 45
        },
        {
          "output_type": "display_data",
          "data": {
            "image/png": "[encoded data removed]",
            "text/plain": [
              "<Figure size 432x288 with 1 Axes>"
            ]
          },
          "metadata": {
            "tags": [],
            "needs_background": "light"
          }
        }
      ]
    },
    {
      "cell_type": "markdown",
      "metadata": {
        "id": "TAVZXUpL5yNj",
        "colab_type": "text"
      },
      "source": [
        "# Feature Engineering and Final Data Cleaning"
      ]
    },
    {
      "cell_type": "markdown",
      "metadata": {
        "id": "wa_9yxSG5yNj",
        "colab_type": "text"
      },
      "source": [
        "We then engineer new features by conducting a 'One-hot encoding' on all the categorical features in our dataset to convert them to numerical values. Furthermore, we normalize the data and this is the final step in cleaning our features. "
      ]
    },
    {
      "cell_type": "code",
      "metadata": {
        "id": "YxB4Tc375yNj",
        "colab_type": "code",
        "outputId": "c1da4bcf-7135-4da8-a9aa-8a3c7b7ac453",
        "colab": {}
      },
      "source": [
        "from sklearn.preprocessing import StandardScaler\n",
        "\n",
        "numbers = ['age',\n",
        " 'campaign',\n",
        " 'pdays',\n",
        " 'previous',\n",
        " 'emp.var.rate',\n",
        " 'cons.price.idx',\n",
        " 'cons.conf.idx',\n",
        " 'euribor3m','nr.employed']\n",
        "\n",
        "obj_ss = StandardScaler()\n",
        "vals = obj_ss.fit_transform(dataframe[numbers])\n",
        "dataframe[numbers] = vals"
      ],
      "execution_count": 0,
      "outputs": [
        {
          "output_type": "stream",
          "text": [
            "/anaconda3/lib/python3.7/site-packages/sklearn/preprocessing/data.py:645: DataConversionWarning: Data with input dtype int64, float64 were all converted to float64 by StandardScaler.\n",
            "  return self.partial_fit(X, y)\n",
            "/anaconda3/lib/python3.7/site-packages/sklearn/base.py:464: DataConversionWarning: Data with input dtype int64, float64 were all converted to float64 by StandardScaler.\n",
            "  return self.fit(X, **fit_params).transform(X)\n"
          ],
          "name": "stderr"
        }
      ]
    },
    {
      "cell_type": "code",
      "metadata": {
        "colab_type": "code",
        "id": "yYLUUxbQf2fY",
        "colab": {}
      },
      "source": [
        "dfo = pd.get_dummies(dataframe[dataframe.columns[:-1]])\n",
        "dfo['y'] = dataframe['y']\n",
        "dfo['y'] = dfo['y'].apply(lambda x: 1 if x =='yes' else 0)"
      ],
      "execution_count": 0,
      "outputs": []
    },
    {
      "cell_type": "code",
      "metadata": {
        "colab_type": "code",
        "id": "JIc-cFXTf2fZ",
        "outputId": "3df5fbc1-fdba-45c3-cf03-c200e7a9ac53",
        "colab": {}
      },
      "source": [
        "dfo.shape"
      ],
      "execution_count": 0,
      "outputs": [
        {
          "output_type": "execute_result",
          "data": {
            "text/plain": [
              "(41188, 58)"
            ]
          },
          "metadata": {
            "tags": []
          },
          "execution_count": 48
        }
      ]
    },
    {
      "cell_type": "markdown",
      "metadata": {
        "id": "pu-gc0ft5yNm",
        "colab_type": "text"
      },
      "source": [
        "Seperating the Data into Training and Testing Sets"
      ]
    },
    {
      "cell_type": "code",
      "metadata": {
        "colab_type": "code",
        "id": "V9_SsWf8f2fh",
        "colab": {}
      },
      "source": [
        "X = dfo.iloc[:,:-1]\n",
        "y = dfo[dfo.columns[-1]]"
      ],
      "execution_count": 0,
      "outputs": []
    },
    {
      "cell_type": "code",
      "metadata": {
        "colab_type": "code",
        "id": "rojKzRR6f2fj",
        "colab": {}
      },
      "source": [
        ">>> X_train, X_test, y_train, y_test = train_test_split(\n",
        "...     X, y, test_size=0.33, random_state=42)"
      ],
      "execution_count": 0,
      "outputs": []
    },
    {
      "cell_type": "markdown",
      "metadata": {
        "id": "Z3oLZxG45yNn",
        "colab_type": "text"
      },
      "source": [
        "Conducting PCA analysis to aid with feature selection"
      ]
    },
    {
      "cell_type": "code",
      "metadata": {
        "id": "f8V7bwah5yNn",
        "colab_type": "code",
        "outputId": "2b4b48a9-9e71-4208-a7de-abf884ce4819",
        "colab": {}
      },
      "source": [
        "from sklearn.decomposition import PCA\n",
        "\n",
        "pca = PCA(n_components=2)\n",
        "two_components = pca.fit_transform(X)\n",
        "df_pca = pd.DataFrame(data = two_components\n",
        "             , columns = ['principal component 1', 'principal component 2'])\n",
        "df_pca['y'] = dfo['y'].values\n",
        "\n",
        "sns.set()\n",
        "sns.set_palette('Set1')\n",
        "fig = plt.figure(figsize=(10,12))\n",
        "sns.lmplot( x = 'principal component 1', y = 'principal component 2', hue = 'y', data = df_pca, fit_reg= False )\n",
        "fig = plt.gcf()\n",
        "fig.savefig('PCA.png',bbox_inches='tight' )"
      ],
      "execution_count": 0,
      "outputs": [
        {
          "output_type": "display_data",
          "data": {
            "text/plain": [
              "<Figure size 720x864 with 0 Axes>"
            ]
          },
          "metadata": {
            "tags": []
          }
        },
        {
          "output_type": "display_data",
          "data": {
            "image/png": "[encoded data removed]",
            "text/plain": [
              "<Figure size 405.725x360 with 1 Axes>"
            ]
          },
          "metadata": {
            "tags": []
          }
        }
      ]
    },
    {
      "cell_type": "code",
      "metadata": {
        "id": "my8Fgce15yNo",
        "colab_type": "code",
        "outputId": "b231fd65-cbc2-49d3-907a-e5b70ac0d0a4",
        "colab": {}
      },
      "source": [
        "import numpy as np\n",
        "from sklearn.decomposition import PCA\n",
        "import pandas as pd\n",
        "import matplotlib.pyplot as plt\n",
        "from sklearn.preprocessing import scale\n",
        "%matplotlib inline\n",
        "\n",
        "\n",
        "pca = PCA(n_components=57)\n",
        "\n",
        "pca.fit(dfo)\n",
        "\n",
        "#The amount of variance that each PC explains\n",
        "var= pca.explained_variance_ratio_\n",
        "\n",
        "#Cumulative Variance explains\n",
        "    \n",
        "var1 =np.cumsum(np.round(pca.explained_variance_ratio_, decimals=4)*100)\n",
        "print(var1)\n",
        "\n",
        "plt.plot(var1)\n",
        "plt.title(\"PCA Analysis\")\n",
        "plt.xlabel(\"PC component\")\n",
        "plt.ylabel(\"Cumulative Variation Explained\")\n"
      ],
      "execution_count": 0,
      "outputs": [
        {
          "output_type": "stream",
          "text": [
            "[ 28.29  37.87  46.    52.98  59.4   64.27  68.05  71.38  74.39  76.52\n",
            "  78.48  80.36  82.18  83.86  85.31  86.71  88.08  89.43  90.67  91.66\n",
            "  92.58  93.42  94.07  94.7   95.25  95.78  96.26  96.73  97.18  97.53\n",
            "  97.86  98.19  98.47  98.71  98.94  99.13  99.3   99.43  99.55  99.66\n",
            "  99.77  99.86  99.92  99.95  99.97  99.99 100.   100.   100.   100.\n",
            " 100.   100.   100.   100.   100.   100.   100.  ]\n"
          ],
          "name": "stdout"
        },
        {
          "output_type": "execute_result",
          "data": {
            "text/plain": [
              "Text(0, 0.5, 'Cumulative Variation Explained')"
            ]
          },
          "metadata": {
            "tags": []
          },
          "execution_count": 70
        },
        {
          "output_type": "display_data",
          "data": {
            "image/png": "[encoded data removed]",
            "text/plain": [
              "<Figure size 432x288 with 1 Axes>"
            ]
          },
          "metadata": {
            "tags": [],
            "needs_background": "light"
          }
        }
      ]
    },
    {
      "cell_type": "markdown",
      "metadata": {
        "id": "jJxmV-H45yNo",
        "colab_type": "text"
      },
      "source": [
        "# Defining the Models"
      ]
    },
    {
      "cell_type": "code",
      "metadata": {
        "id": "QyG_yFUm5yNo",
        "colab_type": "code",
        "colab": {}
      },
      "source": [
        "# computational libraries\n",
        "import numpy as np\n",
        "import pandas as pd\n",
        "\n",
        "import pickle\n",
        "\n",
        "#Visualization Metrics\n",
        "import matplotlib.pyplot as plt\n",
        "import seaborn as sns \n",
        "from sklearn.model_selection import validation_curve, learning_curve\n",
        "\n",
        "#Classification Algorithms\n",
        "from sklearn.svm import SVC\n",
        "from sklearn.naive_bayes import GaussianNB\n",
        "from sklearn.neighbors import KNeighborsClassifier\n",
        "\n",
        "import sklearn\n",
        "\n",
        "#Metrics\n",
        "from sklearn.metrics import accuracy_score, fbeta_score, classification_report, make_scorer, f1_score\n",
        "\n",
        "\n",
        "\n",
        "\n",
        "from time import time\n",
        "\n",
        "\n",
        "#Pipeline to run and test multiple ML algorithms\n",
        "def train_predict(learner, X_train, y_train, X_test, y_test): \n",
        "    '''\n",
        "    inputs:\n",
        "       - learner: the learning algorithm to be trained and predicted on\n",
        "       - X_train: features training set\n",
        "       - y_train: income training set\n",
        "       - X_test: features testing set\n",
        "       - y_test: income testing set\n",
        "       \n",
        "       outputs: dict['train_time', 'pred_time', 'acc_test', 'f_test']\n",
        "    '''\n",
        "    results = {}\n",
        "    \n",
        "    # Fit the learner to the training data using slicing with 'sample_size'\n",
        "    start = time() # Get start time\n",
        "    learner.fit(X_train, y_train)\n",
        "    end = time() # Get end time\n",
        "    \n",
        "    # Calculate the training time\n",
        "    results['train_time'] = end - start\n",
        "        \n",
        "    # Get the predictions on the test set,  \n",
        "    start = time() # Get start time\n",
        "    predictions = learner.predict(X_test)\n",
        "    end = time() # Get end time\n",
        "    \n",
        "    #Classification Report\n",
        "    \n",
        "    # Calculate the total prediction time\n",
        "    results['pred_time'] = end - start\n",
        "        \n",
        "    # Compute accuracy on test set\n",
        "    results['acc_test'] = accuracy_score(y_test, predictions)\n",
        "    \n",
        "    # Compute F-score on the test set. We use previous beta\n",
        "    results['f_test'] = f1_score(y_test, predictions, labels=None,\n",
        "    pos_label=1,\n",
        "    average='weighted',\n",
        "    sample_weight=None,\n",
        "\n",
        ")\n",
        "    \n",
        "    report = classification_report(y_test,predictions)\n",
        "       \n",
        "        \n",
        "    # Return the results\n",
        "    return results, report\n",
        "\n",
        "def complexity_curve(X_train, y_train, model, hyperparameter, param_range):\n",
        "    \n",
        "    from sklearn.metrics import fbeta_score, make_scorer\n",
        "    \n",
        "    #score = make_scorer(fbeta_score(y_train,2))\n",
        "    \n",
        "    \n",
        "    \n",
        "    '''Plot the complexity and learning curves for the model selected'''\n",
        "\n",
        "    \n",
        "    train_scores, test_scores = validation_curve( model, X_train, y_train, \n",
        "                                                 param_name=hyperparameter, param_range=param_range,\n",
        "                                                 cv=5, scoring= 'accuracy', n_jobs=1)\n",
        "    \n",
        "    # Calculate mean and standard deviation for training set scores\n",
        "    train_mean = np.mean(train_scores, axis=1)\n",
        "    train_std = np.std(train_scores, axis=1)\n",
        "\n",
        "    # Calculate mean and standard deviation for test set scores\n",
        "    test_mean = np.mean(test_scores, axis=1)\n",
        "    test_std = np.std(test_scores, axis=1)\n",
        "\n",
        "   \n",
        "    #fig = plt.figure(figsize=(10,12))\n",
        "    sns.set()\n",
        "    # Plot mean accuracy scores for training and test sets\n",
        "    plt.plot(param_range, train_mean, label=\"Training score\", color=\"red\")\n",
        "    plt.plot(param_range, test_mean, label=\"Cross-validation score\", color=\"g\")\n",
        "\n",
        "    # Plot accurancy bands for training and test sets\n",
        "    plt.fill_between(param_range, train_mean - train_std, train_mean + train_std, color=\"lightcoral\")\n",
        "    plt.fill_between(param_range, test_mean - test_std, test_mean + test_std, color=\"lightgreen\")\n",
        "\n",
        "    # Create plot\n",
        "    plt.title(\"Validation Curve\")\n",
        "    plt.xlabel(hyperparameter)\n",
        "    plt.ylabel(\"Accuracy Score\")\n",
        "    plt.tight_layout()\n",
        "    plt.legend(loc=\"best\")\n",
        "   \n",
        "\n",
        "    fig = plt.gcf()\n",
        "    fig.savefig('complexity.png',bbox_inches='tight')\n",
        "    \n",
        "    plt.show()\n",
        "    \n",
        "def learning_curve_(X_train, y_train, model):\n",
        "\n",
        "\n",
        "    \n",
        "    train_sizes, train_scores, test_scores = learning_curve(model,\n",
        "                                                            X_train, y_train,cv=5, scoring='f1_score',\n",
        "                                                            n_jobs=-1)\n",
        "# Number of folds in cross-validation\n",
        "# Evaluation metric\n",
        "# Use all computer cores\n",
        "\n",
        "# 50 different sizes of the training set\n",
        "\n",
        "\n",
        "    # Create means and standard deviations of training set scores\n",
        "    train_mean = np.mean(train_scores, axis=1)\n",
        "    train_std = np.std(train_scores, axis=1)\n",
        "\n",
        "    # Create means and standard deviations of test set scores\n",
        "    test_mean = np.mean(test_scores, axis=1)\n",
        "    test_std = np.std(test_scores, axis=1)\n",
        "    \n",
        "    #fig = plt.figure(figsize=(10,12))\n",
        "    sns.set()\n",
        "\n",
        "    # Draw lines\n",
        "    plt.plot(train_sizes, train_mean, color=\"red\",  label=\"Training score\")\n",
        "    plt.plot(train_sizes, test_mean, color=\"g\", label=\"Cross-validation score\")\n",
        "\n",
        "    # Draw bands\n",
        "    plt.fill_between(train_sizes, train_mean - train_std, train_mean + train_std, color=\"lightcoral\")\n",
        "    plt.fill_between(train_sizes, test_mean - test_std, test_mean + test_std, color=\"lightgreen\")\n",
        "\n",
        "    # Create plot\n",
        "    plt.title(\"Learning Curve\")\n",
        "    plt.xlabel(\"Training Set Size\"), plt.ylabel(\"Accuracy Score\"), plt.legend(loc=\"best\")\n",
        "    \n",
        "    \n",
        "    \n",
        "    fig = plt.gcf()\n",
        "    fig.savefig('learning_curve.png',bbox_inches='tight' )\n",
        "    \n",
        "    plt.tight_layout()\n",
        "    plt.show()\n",
        "    \n",
        "    \n",
        "    ################################\n",
        "    \n",
        "\n",
        "    "
      ],
      "execution_count": 0,
      "outputs": []
    },
    {
      "cell_type": "code",
      "metadata": {
        "id": "i7JrlHBo5yNp",
        "colab_type": "code",
        "outputId": "1d352c16-3c3e-46bc-d335-f12a9fc8df66",
        "colab": {}
      },
      "source": [
        "model_svm = SVC()\n",
        "model_NB = GaussianNB()\n",
        "model_KNN = KNeighborsClassifier(n_neighbors= 7)\n",
        "\n",
        "\n",
        "results_svm, report_svm = train_predict(model_svm, X_train, y_train, X_test, y_test)\n",
        "results_NB, report_NB = train_predict(model_NB, X_train, y_train, X_test, y_test)\n",
        "results_KNN, report_KNN = train_predict(model_KNN, X_train, y_train, X_test, y_test)\n",
        "\n",
        "\n",
        "results_svm = list(results_svm.values())\n",
        "results_NB = list(results_NB.values())\n",
        "results_KNN =  list(results_KNN.values())\n",
        "\n",
        "\n",
        "results = np.vstack((results_svm,results_NB,results_KNN)\n",
        "df_results = pd.DataFrame(results,columns = ['train_time', 'pred_time', 'acc_test', 'f_test'], \n",
        "                          index = ['SVM', 'NB', 'KNN'])\n",
        "\n",
        "df_results_table = df_results.copy()\n"
      ],
      "execution_count": 0,
      "outputs": [
        {
          "output_type": "stream",
          "text": [
            "/anaconda3/lib/python3.7/site-packages/sklearn/svm/base.py:196: FutureWarning: The default value of gamma will change from 'auto' to 'scale' in version 0.22 to account better for unscaled features. Set gamma explicitly to 'auto' or 'scale' to avoid this warning.\n",
            "  \"avoid this warning.\", FutureWarning)\n",
            "/anaconda3/lib/python3.7/site-packages/sklearn/linear_model/logistic.py:433: FutureWarning: Default solver will be changed to 'lbfgs' in 0.22. Specify a solver to silence this warning.\n",
            "  FutureWarning)\n"
          ],
          "name": "stderr"
        }
      ]
    },
    {
      "cell_type": "code",
      "metadata": {
        "id": "79cm8ze65yNq",
        "colab_type": "code",
        "outputId": "0d30a8b2-4098-42fc-ecf3-5b4b8bdc4b43",
        "colab": {
          "base_uri": "https://localhost:8080/",
          "height": 164
        }
      },
      "source": [
        "df_results"
      ],
      "execution_count": 2,
      "outputs": [
        {
          "output_type": "error",
          "ename": "NameError",
          "evalue": "ignored",
          "traceback": [
            "\u001b[0;31m---------------------------------------------------------------------------\u001b[0m",
            "\u001b[0;31mNameError\u001b[0m                                 Traceback (most recent call last)",
            "\u001b[0;32m<ipython-input-2-332db77d160f>\u001b[0m in \u001b[0;36m<module>\u001b[0;34m()\u001b[0m\n\u001b[0;32m----> 1\u001b[0;31m \u001b[0mdf_results\u001b[0m\u001b[0;34m\u001b[0m\u001b[0;34m\u001b[0m\u001b[0m\n\u001b[0m",
            "\u001b[0;31mNameError\u001b[0m: name 'df_results' is not defined"
          ]
        }
      ]
    },
    {
      "cell_type": "markdown",
      "metadata": {
        "id": "Q7orlZro5yNq",
        "colab_type": "text"
      },
      "source": [
        "Computing Accuracies"
      ]
    },
    {
      "cell_type": "code",
      "metadata": {
        "id": "iCdJSk6K5yNq",
        "colab_type": "code",
        "outputId": "0d8e7f66-94c1-4d2c-dabe-05b6bc35f43f",
        "colab": {
          "base_uri": "https://localhost:8080/",
          "height": 232
        }
      },
      "source": [
        "#Accuracy\n",
        "\n",
        "objects = ('SVM', 'NB', 'KNN')\n",
        "y_pos = np.arange(len(objects))\n",
        "performance = df_results['acc_test'].values\n",
        "\n",
        "#fig = plt.figure(figsize=(10,12)\n",
        "plt.bar(y_pos, performance, align='center',color=['red', 'green', 'blue', 'cyan', 'yellow'], \n",
        "        alpha= 0.7, edgecolor='black')\n",
        "plt.xticks(y_pos, objects)\n",
        "plt.ylabel('Accuracy')\n",
        "plt.title('Model Accuracy')\n",
        "fig = plt.gcf()\n",
        "fig.savefig('accuracy.png',bbox_inches='tight' )"
      ],
      "execution_count": 1,
      "outputs": [
        {
          "output_type": "error",
          "ename": "NameError",
          "evalue": "ignored",
          "traceback": [
            "\u001b[0;31m---------------------------------------------------------------------------\u001b[0m",
            "\u001b[0;31mNameError\u001b[0m                                 Traceback (most recent call last)",
            "\u001b[0;32m<ipython-input-1-8d87184d23bb>\u001b[0m in \u001b[0;36m<module>\u001b[0;34m()\u001b[0m\n\u001b[1;32m      1\u001b[0m \u001b[0;34m\u001b[0m\u001b[0m\n\u001b[1;32m      2\u001b[0m \u001b[0mobjects\u001b[0m \u001b[0;34m=\u001b[0m \u001b[0;34m(\u001b[0m\u001b[0;34m'SVM'\u001b[0m\u001b[0;34m,\u001b[0m \u001b[0;34m'NB'\u001b[0m\u001b[0;34m,\u001b[0m \u001b[0;34m'KNN'\u001b[0m\u001b[0;34m)\u001b[0m\u001b[0;34m\u001b[0m\u001b[0;34m\u001b[0m\u001b[0m\n\u001b[0;32m----> 3\u001b[0;31m \u001b[0my_pos\u001b[0m \u001b[0;34m=\u001b[0m \u001b[0mnp\u001b[0m\u001b[0;34m.\u001b[0m\u001b[0marange\u001b[0m\u001b[0;34m(\u001b[0m\u001b[0mlen\u001b[0m\u001b[0;34m(\u001b[0m\u001b[0mobjects\u001b[0m\u001b[0;34m)\u001b[0m\u001b[0;34m)\u001b[0m\u001b[0;34m\u001b[0m\u001b[0;34m\u001b[0m\u001b[0m\n\u001b[0m\u001b[1;32m      4\u001b[0m \u001b[0mperformance\u001b[0m \u001b[0;34m=\u001b[0m \u001b[0mdf_results\u001b[0m\u001b[0;34m[\u001b[0m\u001b[0;34m'acc_test'\u001b[0m\u001b[0;34m]\u001b[0m\u001b[0;34m.\u001b[0m\u001b[0mvalues\u001b[0m\u001b[0;34m\u001b[0m\u001b[0;34m\u001b[0m\u001b[0m\n\u001b[1;32m      5\u001b[0m \u001b[0;34m\u001b[0m\u001b[0m\n",
            "\u001b[0;31mNameError\u001b[0m: name 'np' is not defined"
          ]
        }
      ]
    },
    {
      "cell_type": "code",
      "metadata": {
        "id": "2nuK3Jko5yNx",
        "colab_type": "code",
        "outputId": "6d649324-0e88-4f6c-aaab-6efceb60d754",
        "colab": {}
      },
      "source": [
        "print('\\n', report_NB)"
      ],
      "execution_count": 0,
      "outputs": [
        {
          "output_type": "stream",
          "text": [
            "\n",
            "               precision    recall  f1-score   support\n",
            "\n",
            "           0       0.93      0.91      0.92     12056\n",
            "           1       0.40      0.45      0.42      1537\n",
            "\n",
            "   micro avg       0.86      0.86      0.86     13593\n",
            "   macro avg       0.66      0.68      0.67     13593\n",
            "weighted avg       0.87      0.86      0.86     13593\n",
            "\n"
          ],
          "name": "stdout"
        }
      ]
    },
    {
      "cell_type": "code",
      "metadata": {
        "id": "FDujsUKW5yNx",
        "colab_type": "code",
        "outputId": "4fa9314e-344e-4836-afe9-d05d04fff5de",
        "colab": {}
      },
      "source": [
        "print('\\n'+report_KNN)"
      ],
      "execution_count": 0,
      "outputs": [
        {
          "output_type": "stream",
          "text": [
            "\n",
            "              precision    recall  f1-score   support\n",
            "\n",
            "           0       0.91      0.97      0.94     12056\n",
            "           1       0.54      0.27      0.36      1537\n",
            "\n",
            "   micro avg       0.89      0.89      0.89     13593\n",
            "   macro avg       0.73      0.62      0.65     13593\n",
            "weighted avg       0.87      0.89      0.87     13593\n",
            "\n"
          ],
          "name": "stdout"
        }
      ]
    },
    {
      "cell_type": "code",
      "metadata": {
        "id": "1HzKwvOw5yNy",
        "colab_type": "code",
        "outputId": "4bae02a2-cefc-4d79-f66e-6b87263b5124",
        "colab": {}
      },
      "source": [
        "print('\\n'+classification_report(y_test,gpred))"
      ],
      "execution_count": 0,
      "outputs": [
        {
          "output_type": "stream",
          "text": [
            "\n",
            "              precision    recall  f1-score   support\n",
            "\n",
            "           0       0.91      0.99      0.95     12056\n",
            "           1       0.69      0.19      0.30      1537\n",
            "\n",
            "   micro avg       0.90      0.90      0.90     13593\n",
            "   macro avg       0.80      0.59      0.62     13593\n",
            "weighted avg       0.88      0.90      0.87     13593\n",
            "\n"
          ],
          "name": "stdout"
        }
      ]
    }
  ]
}